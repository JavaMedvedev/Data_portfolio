{
 "cells": [
  {
   "cell_type": "markdown",
   "metadata": {},
   "source": [
    "# Classification with Python for Bank Telemarketing"
   ]
  },
  {
   "cell_type": "markdown",
   "metadata": {},
   "source": [
    "How do you make business more time-efficient, slash costs and drive up sales? The question is timeless but not rhetorical. In the next few minutes of your reading time, I will apply a few classification algorithms to demonstrate how the use of the data analytic approach can contribute to that end. Together we’ll create a predictive model that will help us customise the client datasets we hand over to the telemarketing team so that they could concentrate resources on more promising clients first.<br>\n",
    "\n",
    "\n",
    "Please read my thorough description of this code on the website: https://towardsdatascience.com/machine-learning-classification-with-python-for-direct-marketing-2da27906ddac?source=friends_link&sk=2fb033be1773a97ade24416a2da0ebe2"
   ]
  },
  {
   "cell_type": "code",
   "execution_count": 1,
   "metadata": {},
   "outputs": [],
   "source": [
    "import pandas as pd\n",
    "import numpy as np"
   ]
  },
  {
   "cell_type": "code",
   "execution_count": 2,
   "metadata": {},
   "outputs": [
    {
     "data": {
      "text/html": [
       "<div>\n",
       "<style scoped>\n",
       "    .dataframe tbody tr th:only-of-type {\n",
       "        vertical-align: middle;\n",
       "    }\n",
       "\n",
       "    .dataframe tbody tr th {\n",
       "        vertical-align: top;\n",
       "    }\n",
       "\n",
       "    .dataframe thead th {\n",
       "        text-align: right;\n",
       "    }\n",
       "</style>\n",
       "<table border=\"1\" class=\"dataframe\">\n",
       "  <thead>\n",
       "    <tr style=\"text-align: right;\">\n",
       "      <th></th>\n",
       "      <th>age</th>\n",
       "      <th>job</th>\n",
       "      <th>marital</th>\n",
       "      <th>education</th>\n",
       "      <th>housing_loan</th>\n",
       "      <th>personal_loan</th>\n",
       "      <th>contact</th>\n",
       "      <th>contact_month</th>\n",
       "      <th>contact_day_of_week</th>\n",
       "      <th>duration</th>\n",
       "      <th>campaign</th>\n",
       "      <th>previous</th>\n",
       "      <th>poutcome</th>\n",
       "      <th>emp.var.rate</th>\n",
       "      <th>cons.price.idx</th>\n",
       "      <th>cons.conf.idx</th>\n",
       "      <th>euribor3m</th>\n",
       "      <th>y</th>\n",
       "    </tr>\n",
       "  </thead>\n",
       "  <tbody>\n",
       "    <tr>\n",
       "      <th>0</th>\n",
       "      <td>56</td>\n",
       "      <td>housemaid</td>\n",
       "      <td>married</td>\n",
       "      <td>basic.4y</td>\n",
       "      <td>no</td>\n",
       "      <td>no</td>\n",
       "      <td>telephone</td>\n",
       "      <td>may</td>\n",
       "      <td>mon</td>\n",
       "      <td>261</td>\n",
       "      <td>1</td>\n",
       "      <td>0</td>\n",
       "      <td>nonexistent</td>\n",
       "      <td>1.1</td>\n",
       "      <td>93.994</td>\n",
       "      <td>-36.4</td>\n",
       "      <td>4.857</td>\n",
       "      <td>no</td>\n",
       "    </tr>\n",
       "    <tr>\n",
       "      <th>1</th>\n",
       "      <td>57</td>\n",
       "      <td>services</td>\n",
       "      <td>married</td>\n",
       "      <td>high.school</td>\n",
       "      <td>no</td>\n",
       "      <td>no</td>\n",
       "      <td>telephone</td>\n",
       "      <td>may</td>\n",
       "      <td>mon</td>\n",
       "      <td>149</td>\n",
       "      <td>1</td>\n",
       "      <td>0</td>\n",
       "      <td>nonexistent</td>\n",
       "      <td>1.1</td>\n",
       "      <td>93.994</td>\n",
       "      <td>-36.4</td>\n",
       "      <td>4.857</td>\n",
       "      <td>no</td>\n",
       "    </tr>\n",
       "    <tr>\n",
       "      <th>2</th>\n",
       "      <td>37</td>\n",
       "      <td>services</td>\n",
       "      <td>married</td>\n",
       "      <td>high.school</td>\n",
       "      <td>yes</td>\n",
       "      <td>no</td>\n",
       "      <td>telephone</td>\n",
       "      <td>may</td>\n",
       "      <td>mon</td>\n",
       "      <td>226</td>\n",
       "      <td>1</td>\n",
       "      <td>0</td>\n",
       "      <td>nonexistent</td>\n",
       "      <td>1.1</td>\n",
       "      <td>93.994</td>\n",
       "      <td>-36.4</td>\n",
       "      <td>4.857</td>\n",
       "      <td>no</td>\n",
       "    </tr>\n",
       "    <tr>\n",
       "      <th>3</th>\n",
       "      <td>40</td>\n",
       "      <td>admin.</td>\n",
       "      <td>married</td>\n",
       "      <td>basic.6y</td>\n",
       "      <td>no</td>\n",
       "      <td>no</td>\n",
       "      <td>telephone</td>\n",
       "      <td>may</td>\n",
       "      <td>mon</td>\n",
       "      <td>151</td>\n",
       "      <td>1</td>\n",
       "      <td>0</td>\n",
       "      <td>nonexistent</td>\n",
       "      <td>1.1</td>\n",
       "      <td>93.994</td>\n",
       "      <td>-36.4</td>\n",
       "      <td>4.857</td>\n",
       "      <td>no</td>\n",
       "    </tr>\n",
       "    <tr>\n",
       "      <th>4</th>\n",
       "      <td>56</td>\n",
       "      <td>services</td>\n",
       "      <td>married</td>\n",
       "      <td>high.school</td>\n",
       "      <td>no</td>\n",
       "      <td>yes</td>\n",
       "      <td>telephone</td>\n",
       "      <td>may</td>\n",
       "      <td>mon</td>\n",
       "      <td>307</td>\n",
       "      <td>1</td>\n",
       "      <td>0</td>\n",
       "      <td>nonexistent</td>\n",
       "      <td>1.1</td>\n",
       "      <td>93.994</td>\n",
       "      <td>-36.4</td>\n",
       "      <td>4.857</td>\n",
       "      <td>no</td>\n",
       "    </tr>\n",
       "  </tbody>\n",
       "</table>\n",
       "</div>"
      ],
      "text/plain": [
       "   age        job  marital    education housing_loan personal_loan    contact  \\\n",
       "0   56  housemaid  married     basic.4y           no            no  telephone   \n",
       "1   57   services  married  high.school           no            no  telephone   \n",
       "2   37   services  married  high.school          yes            no  telephone   \n",
       "3   40     admin.  married     basic.6y           no            no  telephone   \n",
       "4   56   services  married  high.school           no           yes  telephone   \n",
       "\n",
       "  contact_month contact_day_of_week  duration  campaign  previous  \\\n",
       "0           may                 mon       261         1         0   \n",
       "1           may                 mon       149         1         0   \n",
       "2           may                 mon       226         1         0   \n",
       "3           may                 mon       151         1         0   \n",
       "4           may                 mon       307         1         0   \n",
       "\n",
       "      poutcome  emp.var.rate  cons.price.idx  cons.conf.idx  euribor3m   y  \n",
       "0  nonexistent           1.1          93.994          -36.4      4.857  no  \n",
       "1  nonexistent           1.1          93.994          -36.4      4.857  no  \n",
       "2  nonexistent           1.1          93.994          -36.4      4.857  no  \n",
       "3  nonexistent           1.1          93.994          -36.4      4.857  no  \n",
       "4  nonexistent           1.1          93.994          -36.4      4.857  no  "
      ]
     },
     "execution_count": 2,
     "metadata": {},
     "output_type": "execute_result"
    }
   ],
   "source": [
    "df = pd.read_csv('bank_additional_full_prep.csv', delimiter=';', decimal=',')\n",
    "df.head()"
   ]
  },
  {
   "cell_type": "code",
   "execution_count": 3,
   "metadata": {},
   "outputs": [
    {
     "data": {
      "text/plain": [
       "(40101, 18)"
      ]
     },
     "execution_count": 3,
     "metadata": {},
     "output_type": "execute_result"
    }
   ],
   "source": [
    "df.shape"
   ]
  },
  {
   "cell_type": "code",
   "execution_count": 4,
   "metadata": {},
   "outputs": [
    {
     "data": {
      "text/html": [
       "<div>\n",
       "<style scoped>\n",
       "    .dataframe tbody tr th:only-of-type {\n",
       "        vertical-align: middle;\n",
       "    }\n",
       "\n",
       "    .dataframe tbody tr th {\n",
       "        vertical-align: top;\n",
       "    }\n",
       "\n",
       "    .dataframe thead th {\n",
       "        text-align: right;\n",
       "    }\n",
       "</style>\n",
       "<table border=\"1\" class=\"dataframe\">\n",
       "  <thead>\n",
       "    <tr style=\"text-align: right;\">\n",
       "      <th></th>\n",
       "      <th>age</th>\n",
       "      <th>duration</th>\n",
       "      <th>campaign</th>\n",
       "      <th>previous</th>\n",
       "      <th>emp.var.rate</th>\n",
       "      <th>cons.price.idx</th>\n",
       "      <th>cons.conf.idx</th>\n",
       "      <th>euribor3m</th>\n",
       "    </tr>\n",
       "  </thead>\n",
       "  <tbody>\n",
       "    <tr>\n",
       "      <th>count</th>\n",
       "      <td>40101.000000</td>\n",
       "      <td>40101.000000</td>\n",
       "      <td>40101.000000</td>\n",
       "      <td>40101.000000</td>\n",
       "      <td>40101.000000</td>\n",
       "      <td>40101.000000</td>\n",
       "      <td>40101.000000</td>\n",
       "      <td>40101.000000</td>\n",
       "    </tr>\n",
       "    <tr>\n",
       "      <th>mean</th>\n",
       "      <td>40.021845</td>\n",
       "      <td>258.376599</td>\n",
       "      <td>2.566669</td>\n",
       "      <td>0.172489</td>\n",
       "      <td>0.081761</td>\n",
       "      <td>93.574482</td>\n",
       "      <td>-40.507626</td>\n",
       "      <td>3.621110</td>\n",
       "    </tr>\n",
       "    <tr>\n",
       "      <th>std</th>\n",
       "      <td>10.420138</td>\n",
       "      <td>259.311511</td>\n",
       "      <td>2.763374</td>\n",
       "      <td>0.494001</td>\n",
       "      <td>1.570292</td>\n",
       "      <td>0.578038</td>\n",
       "      <td>4.628600</td>\n",
       "      <td>1.734151</td>\n",
       "    </tr>\n",
       "    <tr>\n",
       "      <th>min</th>\n",
       "      <td>17.000000</td>\n",
       "      <td>0.000000</td>\n",
       "      <td>1.000000</td>\n",
       "      <td>0.000000</td>\n",
       "      <td>-3.400000</td>\n",
       "      <td>92.201000</td>\n",
       "      <td>-50.800000</td>\n",
       "      <td>0.634000</td>\n",
       "    </tr>\n",
       "    <tr>\n",
       "      <th>25%</th>\n",
       "      <td>32.000000</td>\n",
       "      <td>102.000000</td>\n",
       "      <td>1.000000</td>\n",
       "      <td>0.000000</td>\n",
       "      <td>-1.800000</td>\n",
       "      <td>93.075000</td>\n",
       "      <td>-42.700000</td>\n",
       "      <td>1.344000</td>\n",
       "    </tr>\n",
       "    <tr>\n",
       "      <th>50%</th>\n",
       "      <td>38.000000</td>\n",
       "      <td>180.000000</td>\n",
       "      <td>2.000000</td>\n",
       "      <td>0.000000</td>\n",
       "      <td>1.100000</td>\n",
       "      <td>93.749000</td>\n",
       "      <td>-41.800000</td>\n",
       "      <td>4.857000</td>\n",
       "    </tr>\n",
       "    <tr>\n",
       "      <th>75%</th>\n",
       "      <td>47.000000</td>\n",
       "      <td>320.000000</td>\n",
       "      <td>3.000000</td>\n",
       "      <td>0.000000</td>\n",
       "      <td>1.400000</td>\n",
       "      <td>93.994000</td>\n",
       "      <td>-36.400000</td>\n",
       "      <td>4.961000</td>\n",
       "    </tr>\n",
       "    <tr>\n",
       "      <th>max</th>\n",
       "      <td>98.000000</td>\n",
       "      <td>4918.000000</td>\n",
       "      <td>43.000000</td>\n",
       "      <td>7.000000</td>\n",
       "      <td>1.400000</td>\n",
       "      <td>94.767000</td>\n",
       "      <td>-26.900000</td>\n",
       "      <td>5.045000</td>\n",
       "    </tr>\n",
       "  </tbody>\n",
       "</table>\n",
       "</div>"
      ],
      "text/plain": [
       "                age      duration      campaign      previous  emp.var.rate  \\\n",
       "count  40101.000000  40101.000000  40101.000000  40101.000000  40101.000000   \n",
       "mean      40.021845    258.376599      2.566669      0.172489      0.081761   \n",
       "std       10.420138    259.311511      2.763374      0.494001      1.570292   \n",
       "min       17.000000      0.000000      1.000000      0.000000     -3.400000   \n",
       "25%       32.000000    102.000000      1.000000      0.000000     -1.800000   \n",
       "50%       38.000000    180.000000      2.000000      0.000000      1.100000   \n",
       "75%       47.000000    320.000000      3.000000      0.000000      1.400000   \n",
       "max       98.000000   4918.000000     43.000000      7.000000      1.400000   \n",
       "\n",
       "       cons.price.idx  cons.conf.idx     euribor3m  \n",
       "count    40101.000000   40101.000000  40101.000000  \n",
       "mean        93.574482     -40.507626      3.621110  \n",
       "std          0.578038       4.628600      1.734151  \n",
       "min         92.201000     -50.800000      0.634000  \n",
       "25%         93.075000     -42.700000      1.344000  \n",
       "50%         93.749000     -41.800000      4.857000  \n",
       "75%         93.994000     -36.400000      4.961000  \n",
       "max         94.767000     -26.900000      5.045000  "
      ]
     },
     "execution_count": 4,
     "metadata": {},
     "output_type": "execute_result"
    }
   ],
   "source": [
    "df.describe()"
   ]
  },
  {
   "cell_type": "code",
   "execution_count": 5,
   "metadata": {},
   "outputs": [],
   "source": [
    "from sklearn import preprocessing\n",
    "num = preprocessing.LabelEncoder()\n",
    "\n",
    "num.fit([\"admin.\",\"blue-collar\",\"entrepreneur\",\"housemaid\",\"management\",\n",
    "         \"retired\",\"self-employed\",\"services\",\"student\",\"technician\",\"unemployed\",\"unknown\"])\n",
    "df['job']=num.transform(df['job']).astype('int')\n",
    "\n",
    "num.fit([\"divorced\",\"married\",\"single\",\"unknown\"])\n",
    "df['marital']=num.transform(df['marital']).astype('int')\n",
    "\n",
    "num.fit([\"basic.4y\",\"basic.6y\",\"basic.9y\",\"high.school\",\"illiterate\",\"professional.course\",\n",
    "         \"university.degree\",\"unknown\"])\n",
    "df['education']=num.transform(df['education']).astype('int')\n",
    "\n",
    "num.fit([\"no\",\"yes\",\"unknown\"])\n",
    "df['housing_loan']=num.transform(df['housing_loan']).astype('int')\n",
    "\n",
    "num.fit([\"no\",\"yes\",\"unknown\"])\n",
    "df['personal_loan']=num.transform(df['personal_loan']).astype('int')\n",
    "\n",
    "num.fit([\"failure\",\"nonexistent\",\"success\"])\n",
    "df['poutcome']=num.transform(df['poutcome']).astype('int')\n",
    "\n",
    "num.fit([\"yes\",\"no\"])\n",
    "df['y']=num.transform(df['y']).astype('int')"
   ]
  },
  {
   "cell_type": "code",
   "execution_count": 6,
   "metadata": {},
   "outputs": [
    {
     "data": {
      "text/plain": [
       "age                    40101\n",
       "job                    40101\n",
       "marital                40101\n",
       "education              40101\n",
       "housing_loan           40101\n",
       "personal_loan          40101\n",
       "contact                40101\n",
       "contact_month          40101\n",
       "contact_day_of_week    40101\n",
       "duration               40101\n",
       "campaign               40101\n",
       "previous               40101\n",
       "poutcome               40101\n",
       "emp.var.rate           40101\n",
       "cons.price.idx         40101\n",
       "cons.conf.idx          40101\n",
       "euribor3m              40101\n",
       "y                      40101\n",
       "dtype: int64"
      ]
     },
     "execution_count": 6,
     "metadata": {},
     "output_type": "execute_result"
    }
   ],
   "source": [
    "df.count()"
   ]
  },
  {
   "cell_type": "code",
   "execution_count": 7,
   "metadata": {},
   "outputs": [],
   "source": [
    "from sklearn.preprocessing import StandardScaler\n",
    "scaler=StandardScaler()\n",
    "\n",
    "df['cons.price.idx'] = scaler.fit_transform(df[['cons.price.idx']]).reshape(-1,1)\n",
    "df['cons.conf.idx'] = scaler.fit_transform(df[['cons.conf.idx']]).reshape(-1,1)\n",
    "df['euribor3m'] = scaler.fit_transform(df[['euribor3m']]).reshape(-1,1)"
   ]
  },
  {
   "cell_type": "code",
   "execution_count": 8,
   "metadata": {},
   "outputs": [
    {
     "name": "stdout",
     "output_type": "stream",
     "text": [
      "Num Features: 6\n",
      "Selected Features: [ True  True False  True False False  True False  True  True]\n",
      "Feature Ranking: [1 1 3 1 2 5 1 4 1 1]\n"
     ]
    }
   ],
   "source": [
    "import numpy as np\n",
    "from sklearn.ensemble import RandomForestClassifier\n",
    "from sklearn.feature_selection import RFE\n",
    "\n",
    "X = np.asarray(df[['age', 'job', 'marital', 'education', 'housing_loan', 'personal_loan', \n",
    "                   'emp.var.rate', 'cons.price.idx', 'cons.conf.idx', 'euribor3m']])\n",
    "y = np.asarray(df['y'])\n",
    "rfc = RandomForestClassifier(n_estimators=40)\n",
    "rfe = RFE(rfc, 6)\n",
    "rfe_fit = rfe.fit(X, y)\n",
    "\n",
    "print(\"Num Features: %s\" % (rfe_fit.n_features_))\n",
    "print(\"Selected Features: %s\" % (rfe_fit.support_))\n",
    "print(\"Feature Ranking: %s\" % (rfe_fit.ranking_))"
   ]
  },
  {
   "cell_type": "code",
   "execution_count": 9,
   "metadata": {},
   "outputs": [],
   "source": [
    "X = np.asarray(df[['age', 'job', 'marital', 'education', 'housing_loan',\n",
    "                   'emp.var.rate', 'cons.conf.idx', 'euribor3m']])\n",
    "y = np.asarray(df['y'])"
   ]
  },
  {
   "cell_type": "code",
   "execution_count": 10,
   "metadata": {},
   "outputs": [],
   "source": [
    "from imblearn.over_sampling import SMOTE\n",
    "\n",
    "sm=SMOTE(ratio='auto', kind='regular')\n",
    "X_sampled,y_sampled=sm.fit_sample(X,y)"
   ]
  },
  {
   "cell_type": "code",
   "execution_count": 11,
   "metadata": {},
   "outputs": [
    {
     "name": "stdout",
     "output_type": "stream",
     "text": [
      "[35584] [35584]\n"
     ]
    }
   ],
   "source": [
    "Sampled_no = len(y_sampled[y_sampled==0])\n",
    "Sampled_yes = len(y_sampled[y_sampled==1])\n",
    "print([Sampled_no],[Sampled_yes])"
   ]
  },
  {
   "cell_type": "code",
   "execution_count": 12,
   "metadata": {},
   "outputs": [],
   "source": [
    "from sklearn.model_selection import train_test_split\n",
    "X_train,X_test,y_train,y_test = train_test_split(X_sampled,y_sampled,test_size=0.3,random_state=0)"
   ]
  },
  {
   "cell_type": "code",
   "execution_count": 13,
   "metadata": {},
   "outputs": [],
   "source": [
    "from sklearn.metrics import f1_score\n",
    "from sklearn.linear_model import LogisticRegression\n",
    "from sklearn.svm import SVC\n",
    "from sklearn.tree import DecisionTreeClassifier\n",
    "from sklearn.ensemble import RandomForestClassifier\n",
    "\n",
    "lr = LogisticRegression(C=1, solver='lbfgs')\n",
    "clf = SVC(kernel='rbf', gamma='auto')\n",
    "dtree = DecisionTreeClassifier(criterion=\"entropy\", max_depth=4)\n",
    "rfc = RandomForestClassifier(n_estimators=40)"
   ]
  },
  {
   "cell_type": "code",
   "execution_count": 14,
   "metadata": {},
   "outputs": [
    {
     "name": "stderr",
     "output_type": "stream",
     "text": [
      "C:\\Users\\user-dns\\Anaconda3\\lib\\site-packages\\sklearn\\linear_model\\logistic.py:947: ConvergenceWarning: lbfgs failed to converge. Increase the number of iterations.\n",
      "  \"of iterations.\", ConvergenceWarning)\n"
     ]
    },
    {
     "name": "stdout",
     "output_type": "stream",
     "text": [
      "LogisticRegression F1 score = 0.7199365612463848\n",
      "SVC F1 score = 0.7576791808873721\n",
      "DecisionTreeClassifier F1 score = 0.707383672332126\n",
      "RandomForestClassifier F1 score = 0.9230624794629865\n"
     ]
    }
   ],
   "source": [
    "def scorer (i,j,k,l):\n",
    "    for every in (i,j,k,l):\n",
    "        every.fit(X_train,y_train)\n",
    "        print (every.__class__.__name__, 'F1 score =', f1_score(y_test,every.predict(X_test)))\n",
    "\n",
    "scorer(lr,clf,dtree,rfc)"
   ]
  },
  {
   "cell_type": "code",
   "execution_count": 15,
   "metadata": {},
   "outputs": [
    {
     "name": "stdout",
     "output_type": "stream",
     "text": [
      "              precision    recall  f1-score   support\n",
      "\n",
      "           0       0.91      0.93      0.92     10594\n",
      "           1       0.93      0.91      0.92     10757\n",
      "\n",
      "    accuracy                           0.92     21351\n",
      "   macro avg       0.92      0.92      0.92     21351\n",
      "weighted avg       0.92      0.92      0.92     21351\n",
      "\n"
     ]
    }
   ],
   "source": [
    "from sklearn.metrics import classification_report\n",
    "\n",
    "yhat = rfc.predict(X_test)\n",
    "print(classification_report(y_test,yhat))"
   ]
  },
  {
   "cell_type": "code",
   "execution_count": 17,
   "metadata": {},
   "outputs": [
    {
     "data": {
      "image/png": "[encoded data removed]",
      "text/plain": [
       "<Figure size 432x288 with 2 Axes>"
      ]
     },
     "metadata": {
      "needs_background": "light"
     },
     "output_type": "display_data"
    }
   ],
   "source": [
    "from sklearn.metrics import confusion_matrix\n",
    "import itertools\n",
    "import matplotlib.pyplot as plt\n",
    "\n",
    "def plot_confusion_matrix(cm, classes,\n",
    "                          normalize=False,\n",
    "                          title='Confusion matrix',\n",
    "                          cmap=plt.cm.Blues):\n",
    "    \n",
    "    plt.imshow(cm, interpolation='nearest', cmap=cmap)\n",
    "    plt.title(title)\n",
    "    plt.colorbar()\n",
    "    tick_marks = np.arange(len(classes))\n",
    "    plt.xticks(tick_marks, classes)\n",
    "    plt.yticks(tick_marks, classes)\n",
    "\n",
    "    fmt = '.2f' if normalize else 'd'\n",
    "    thresh = cm.max() / 2.\n",
    "    for i, j in itertools.product(range(cm.shape[0]), range(cm.shape[1])):\n",
    "        plt.text(j, i, format(cm[i, j], fmt),\n",
    "                 horizontalalignment=\"center\",\n",
    "                 color=\"white\" if cm[i, j] > thresh else \"black\")\n",
    "\n",
    "    plt.ylabel('True label')\n",
    "    plt.xlabel('Predicted label')\n",
    "\n",
    "plot_confusion_matrix(confusion_matrix(y_test, yhat), classes=['0','1'],normalize= False,  title='Confusion matrix')"
   ]
  },
  {
   "cell_type": "markdown",
   "metadata": {},
   "source": [
    "Great! We’ve cleaned and transformed the data, selected the most relevant features, elected the best model and made a prediction with a decent score. Now we have a model that should help us customise the client databases we hand over to the telemarketing team so that they could center their efforts on those better positioned to react in the affirmative to the campaign first.\n",
    "\n",
    "\n",
    "Thank you for reading !!"
   ]
  }
 ],
 "metadata": {
  "kernelspec": {
   "display_name": "Python 3",
   "language": "python",
   "name": "python3"
  },
  "language_info": {
   "codemirror_mode": {
    "name": "ipython",
    "version": 3
   },
   "file_extension": ".py",
   "mimetype": "text/x-python",
   "name": "python",
   "nbconvert_exporter": "python",
   "pygments_lexer": "ipython3",
   "version": "3.7.3"
  }
 },
 "nbformat": 4,
 "nbformat_minor": 2
}
